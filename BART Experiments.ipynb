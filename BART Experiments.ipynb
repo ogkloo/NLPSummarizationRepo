{
 "cells": [
  {
   "cell_type": "code",
   "execution_count": 1,
   "metadata": {},
   "outputs": [],
   "source": [
    "import torch\n",
    "from transformers import pipeline\n",
    "import wikipedia\n",
    "device = 'cuda' if torch.cuda.is_available() else 'cpu'\n",
    "\n",
    "def summarize_article(article, summarizer, words=500, min_len=75, summary_max_length=250):\n",
    "    wiki_page = wikipedia.page(article)\n",
    "    article_content = ' '.join(wiki_page.content.split()[:words])\n",
    "    return summarizer(article_content, min_length=min_len, max_length=summary_max_length)"
   ]
  },
  {
   "cell_type": "code",
   "execution_count": 6,
   "metadata": {},
   "outputs": [
    {
     "data": {
      "text/plain": [
       "[{'summary_text': ' Natural language processing (NLP) is a subfield of linguistics, computer science, and artificial intelligence concerned with interactions between computers and human language . Challenges in natural language processing frequently involve speech recognition, natural language'}]"
      ]
     },
     "execution_count": 6,
     "metadata": {},
     "output_type": "execute_result"
    }
   ],
   "source": [
    "summarizer = pipeline(\"summarization\")\n",
    "summarize_article(\"Natural language processing\", summarizer, min_len=10, summary_max_length=45)"
   ]
  },
  {
   "cell_type": "code",
   "execution_count": 10,
   "metadata": {},
   "outputs": [
    {
     "data": {
      "text/plain": [
       "[{'summary_text': ' The Matrix is a 1999 American science fiction action film written and directed by the Wachowskis . It stars Keanu Reeves, Laurence Fishburne, Carrie-Anne Moss, Hugo Weaving, and Joe Pantoliano . The film is considered to be among the best science fiction films of all time . The success of the film led to the release of two feature film sequels, The Matrix Reloaded and The Matrix Revolutions . A fourth film is scheduled for release on December 22, 2021 .'}]"
      ]
     },
     "execution_count": 10,
     "metadata": {},
     "output_type": "execute_result"
    }
   ],
   "source": [
    "summarize_article(\"The Matrix\", summarizer)"
   ]
  },
  {
   "cell_type": "code",
   "execution_count": 14,
   "metadata": {},
   "outputs": [
    {
     "data": {
      "text/plain": [
       "[{'summary_text': ' Reinforcement learning is one of three basic machine learning paradigms, alongside supervised learning and unsupervised learning . The purpose of reinforcement learning is for the agent to learn an optimal, or nearly-optimal, policy that maximizes the \"reward function\" or other user-provided reinforcement signal that accumulates from the immediate rewards . In economics and game theory, reinforcement learning may explain how equilibrium may arise under bounded rationality .'}]"
      ]
     },
     "execution_count": 14,
     "metadata": {},
     "output_type": "execute_result"
    }
   ],
   "source": [
    "summarize_article(\"Reinforcement Learning\", summarizer)"
   ]
  },
  {
   "cell_type": "code",
   "execution_count": 9,
   "metadata": {},
   "outputs": [
    {
     "name": "stderr",
     "output_type": "stream",
     "text": [
      "Some weights of the model checkpoint at t5-small were not used when initializing T5Model: ['decoder.block.0.layer.1.EncDecAttention.relative_attention_bias.weight']\n",
      "- This IS expected if you are initializing T5Model from the checkpoint of a model trained on another task or with another architecture (e.g. initializing a BertForSequenceClassification model from a BertForPreTraining model).\n",
      "- This IS NOT expected if you are initializing T5Model from the checkpoint of a model that you expect to be exactly identical (initializing a BertForSequenceClassification model from a BertForSequenceClassification model).\n",
      "Some weights of the model checkpoint at t5-small were not used when initializing T5ForConditionalGeneration: ['decoder.block.0.layer.1.EncDecAttention.relative_attention_bias.weight']\n",
      "- This IS expected if you are initializing T5ForConditionalGeneration from the checkpoint of a model trained on another task or with another architecture (e.g. initializing a BertForSequenceClassification model from a BertForPreTraining model).\n",
      "- This IS NOT expected if you are initializing T5ForConditionalGeneration from the checkpoint of a model that you expect to be exactly identical (initializing a BertForSequenceClassification model from a BertForSequenceClassification model).\n",
      "Token indices sequence length is longer than the specified maximum sequence length for this model (798 > 512). Running this sequence through the model will result in indexing errors\n"
     ]
    },
    {
     "data": {
      "text/plain": [
       "[{'summary_text': 'natural language processing (NLP) is a subfield of linguistics, computer science, and artificial intelligence . the technology can then accurately extract information and insights contained in the documents . it can then categorize and organize the documents themselves . in the 1970s, many programmers began to write \"conceptual ontologies\"'}]"
      ]
     },
     "execution_count": 9,
     "metadata": {},
     "output_type": "execute_result"
    }
   ],
   "source": [
    "summarizer = pipeline(\"summarization\", model=\"t5-small\", tokenizer=\"t5-base\")\n",
    "summarize_article(\"Natural language processing\", summarizer, min_len=10, summary_max_length=75)"
   ]
  },
  {
   "cell_type": "code",
   "execution_count": 11,
   "metadata": {},
   "outputs": [
    {
     "name": "stderr",
     "output_type": "stream",
     "text": [
      "Some weights of the model checkpoint at t5-small were not used when initializing T5Model: ['decoder.block.0.layer.1.EncDecAttention.relative_attention_bias.weight']\n",
      "- This IS expected if you are initializing T5Model from the checkpoint of a model trained on another task or with another architecture (e.g. initializing a BertForSequenceClassification model from a BertForPreTraining model).\n",
      "- This IS NOT expected if you are initializing T5Model from the checkpoint of a model that you expect to be exactly identical (initializing a BertForSequenceClassification model from a BertForSequenceClassification model).\n",
      "Some weights of the model checkpoint at t5-small were not used when initializing T5ForConditionalGeneration: ['decoder.block.0.layer.1.EncDecAttention.relative_attention_bias.weight']\n",
      "- This IS expected if you are initializing T5ForConditionalGeneration from the checkpoint of a model trained on another task or with another architecture (e.g. initializing a BertForSequenceClassification model from a BertForPreTraining model).\n",
      "- This IS NOT expected if you are initializing T5ForConditionalGeneration from the checkpoint of a model that you expect to be exactly identical (initializing a BertForSequenceClassification model from a BertForSequenceClassification model).\n"
     ]
    },
    {
     "data": {
      "text/plain": [
       "[{'summary_text': 'natural language processing (NLP) is a subfield of linguistics, computer science, and artificial intelligence . a computer capable of \"understanding\" the contents of documents, including the contextual nuances of the language within them . the technology can then accurately extract information and insights contained in the documents as well as categorize and organize the documents'}]"
      ]
     },
     "execution_count": 11,
     "metadata": {},
     "output_type": "execute_result"
    }
   ],
   "source": [
    "summarizer = pipeline(\"summarization\", model=\"t5-small\", tokenizer=\"t5-base\")\n",
    "summarize_article(\"Natural language processing\", summarizer, words=300, min_len=10, summary_max_length=75)"
   ]
  },
  {
   "cell_type": "code",
   "execution_count": 12,
   "metadata": {},
   "outputs": [
    {
     "name": "stderr",
     "output_type": "stream",
     "text": [
      "Some weights of the model checkpoint at t5-small were not used when initializing T5Model: ['decoder.block.0.layer.1.EncDecAttention.relative_attention_bias.weight']\n",
      "- This IS expected if you are initializing T5Model from the checkpoint of a model trained on another task or with another architecture (e.g. initializing a BertForSequenceClassification model from a BertForPreTraining model).\n",
      "- This IS NOT expected if you are initializing T5Model from the checkpoint of a model that you expect to be exactly identical (initializing a BertForSequenceClassification model from a BertForSequenceClassification model).\n",
      "Some weights of the model checkpoint at t5-small were not used when initializing T5ForConditionalGeneration: ['decoder.block.0.layer.1.EncDecAttention.relative_attention_bias.weight']\n",
      "- This IS expected if you are initializing T5ForConditionalGeneration from the checkpoint of a model trained on another task or with another architecture (e.g. initializing a BertForSequenceClassification model from a BertForPreTraining model).\n",
      "- This IS NOT expected if you are initializing T5ForConditionalGeneration from the checkpoint of a model that you expect to be exactly identical (initializing a BertForSequenceClassification model from a BertForSequenceClassification model).\n"
     ]
    },
    {
     "data": {
      "text/plain": [
       "[{'summary_text': 'natural language processing (NLP) is a subfield of linguistics, computer science, and artificial intelligence . a computer capable of \"understanding\" the contents of documents, including the contextual nuances of the language within them . the technology can then accurately extract information and insights contained in the documents as well as categorize and organize the documents'}]"
      ]
     },
     "execution_count": 12,
     "metadata": {},
     "output_type": "execute_result"
    }
   ],
   "source": [
    "summarizer = pipeline(\"summarization\", model=\"t5-small\", tokenizer=\"t5-small\")\n",
    "summarize_article(\"Natural language processing\", summarizer, words=300, min_len=10, summary_max_length=75)"
   ]
  },
  {
   "cell_type": "code",
   "execution_count": 11,
   "metadata": {},
   "outputs": [],
   "source": []
  },
  {
   "cell_type": "code",
   "execution_count": 2,
   "metadata": {},
   "outputs": [
    {
     "name": "stderr",
     "output_type": "stream",
     "text": [
      "All model checkpoint layers were used when initializing TFPegasusForConditionalGeneration.\n",
      "\n",
      "All the layers of TFPegasusForConditionalGeneration were initialized from the model checkpoint at google/pegasus-xsum.\n",
      "If your task is similar to the task the model of the checkpoint was trained on, you can already use TFPegasusForConditionalGeneration for predictions without further training.\n",
      "Truncation was not explicitly activated but `max_length` is provided a specific value, please use `truncation=True` to explicitly truncate examples to max length. Defaulting to 'longest_first' truncation strategy. If you encode pairs of sequences (GLUE-style) with the tokenizer you can select this strategy more precisely by providing a specific strategy to `truncation`.\n"
     ]
    },
    {
     "name": "stdout",
     "output_type": "stream",
     "text": [
      "['A chronology of key events:']\n"
     ]
    }
   ],
   "source": [
    "from transformers import PegasusTokenizer, TFPegasusForConditionalGeneration\n",
    "import wikipedia\n",
    "\n",
    "model = TFPegasusForConditionalGeneration.from_pretrained('google/pegasus-xsum')\n",
    "tokenizer = PegasusTokenizer.from_pretrained('google/pegasus-xsum')\n",
    "article = \"Natural language processing\"\n",
    "words = 2048\n",
    "wiki_page = wikipedia.page(article)\n",
    "article_content = ' '.join(wiki_page.content.split()[:words])\n",
    "inputs = tokenizer([article_content], max_length=512, return_tensors='tf')\n",
    "summary_ids = model.generate(inputs['input_ids'])\n",
    "print([tokenizer.decode(g, skip_special_tokens=True, clean_up_tokenization_spaces=False) for g in summary_ids])"
   ]
  },
  {
   "cell_type": "code",
   "execution_count": 8,
   "metadata": {},
   "outputs": [
    {
     "data": {
      "text/plain": [
       "[{'summary_text': 'In computer science, natural language processing is a branch of artificial intelligence.'}]"
      ]
     },
     "execution_count": 8,
     "metadata": {},
     "output_type": "execute_result"
    }
   ],
   "source": [
    "summarizer = pipeline(\"summarization\", model=\"facebook/bart-large-xsum\")\n",
    "summarize_article(\"Natural language processing\", summarizer, words=300, min_len=10, summary_max_length=200)"
   ]
  },
  {
   "cell_type": "code",
   "execution_count": 12,
   "metadata": {},
   "outputs": [
    {
     "data": {
      "text/plain": [
       "[{'summary_text': 'A computer that \"understands\" natural language is a significant step forward in the development of artificial intelligence.'}]"
      ]
     },
     "execution_count": 12,
     "metadata": {},
     "output_type": "execute_result"
    }
   ],
   "source": [
    "summarizer = pipeline(\"summarization\", model=\"facebook/bart-large-xsum\", device=0)\n",
    "summarize_article(\"Natural language processing\", summarizer, words=512, min_len=10, summary_max_length=400)"
   ]
  },
  {
   "cell_type": "code",
   "execution_count": 2,
   "metadata": {},
   "outputs": [
    {
     "data": {
      "text/plain": [
       "[{'summary_text': 'A computer that \"understands\" natural language is a significant step forward in the development of artificial intelligence.'}]"
      ]
     },
     "execution_count": 2,
     "metadata": {},
     "output_type": "execute_result"
    }
   ],
   "source": [
    "summarizer = pipeline(\"summarization\", model=\"facebook/bart-large-xsum\", device=0)\n",
    "summarize_article(\"Natural language processing\", summarizer, words=512, min_len=10, summary_max_length=400)"
   ]
  },
  {
   "cell_type": "code",
   "execution_count": 3,
   "metadata": {},
   "outputs": [
    {
     "data": {
      "text/plain": [
       "[{'summary_text': 'A natural language processing system is a computer program that is able to process large amounts of natural language data.'}]"
      ]
     },
     "execution_count": 3,
     "metadata": {},
     "output_type": "execute_result"
    }
   ],
   "source": [
    "summarize_article(\"Natural language processing\", summarizer, words=600, min_len=10, summary_max_length=400)"
   ]
  },
  {
   "cell_type": "code",
   "execution_count": 4,
   "metadata": {},
   "outputs": [
    {
     "data": {
      "text/plain": [
       "[{'summary_text': 'Award-winning film The Matrix, directed by the Wachowskis, is one of the best-selling films of all time.'}]"
      ]
     },
     "execution_count": 4,
     "metadata": {},
     "output_type": "execute_result"
    }
   ],
   "source": [
    "summarize_article(\"The Matrix\", summarizer, words=600, min_len=10, summary_max_length=400)"
   ]
  },
  {
   "cell_type": "code",
   "execution_count": 5,
   "metadata": {},
   "outputs": [
    {
     "data": {
      "text/plain": [
       "[{'summary_text': 'Emojipedia, a website dedicated to the development of the Unicode emoji language, was launched in January 2019.'}]"
      ]
     },
     "execution_count": 5,
     "metadata": {},
     "output_type": "execute_result"
    }
   ],
   "source": [
    "summarize_article(\"Emoji\", summarizer, words=600, min_len=10, summary_max_length=400)"
   ]
  },
  {
   "cell_type": "code",
   "execution_count": 12,
   "metadata": {},
   "outputs": [],
   "source": [
    "articles = [\"Natural language processing\", \"Artificial intelligence\", #\"Machine learning\", \n",
    "            \"Support vector machines\", \"Leonid Brezhnev\", \"Neural Network\", \"Eye\"]"
   ]
  },
  {
   "cell_type": "code",
   "execution_count": 13,
   "metadata": {},
   "outputs": [
    {
     "data": {
      "text/plain": [
       "[[{'summary_text': 'A natural language processing system is a computer program that is able to \"understand\" the contents of documents, as well as the context in which the documents are written and stored... and the first machine translation systems were developed in the late 1980s and early 1990s, and the development of statistical NLP systems in the 1990s and 2000s, both of which led to the creation of chatterbots and Jabberwacky, two of the most well-known examples of artificial intelligence systems.'}],\n",
       " [{'summary_text': 'Artificial intelligence (AI) is a field of research in computer science and engineering that aims to create machines that are more intelligent than humans and animals, as well as machines that can compete at the highest level in strategic game systems (such as chess and Go), and in content delivery networks, such as Google\\'s self-driving cars and Amazon\\'s Echo smart speaker. the field was founded on the assumption that human intelligence \"can be so precisely described that a machine can be made to simulate it\".'}],\n",
       " [{'summary_text': 'Support-vector machines (SVMs) are one of the most widely used clustering algorithms in industrial applications, and has been used for many years to detect outliers in data, such as in the case of out-of-sample results in natural language processing (NLP) and in computer vision (CVG) and artificial intelligence (AI), among many other tasks, and have been used in medical diagnostics and machine learning, as well as in decision-making and computer vision.'}],\n",
       " [{'summary_text': \"Leonid Brezhnev was the second-longest-serving leader of the Soviet Union and one of the most influential men in the history of the world's largest communist party, the Communist Party of Soviet Union (CPSU), from 1936 until his death in 1982 at the age of 82... and the first Soviet leader to be born in the Yekaterinoslav Governorate of the Russian Empire, he was born to a Russian working-class family and grew up in Kamenskoye.\"}],\n",
       " [{'summary_text': 'A neural network is a network of neurons, or in a modern sense, an artificial neural network, made up of artificial neurons or nodes, for solving artificial intelligence (AI) problems, such as speech recognition, image analysis and adaptive control, or for training software agents (in computer and video games), as well as for self-learning in artificial intelligence, cognitive modeling, and artificial intelligence-based robotics (AI-B robotics), among other fields, including artificial intelligence and cognitive modeling and robotics.'}],\n",
       " [{'summary_text': 'In higher organisms, the eye is a complex optical system which collects light from the surrounding environment, focuses it through an adjustable assembly of lenses, converts this image into a set of electrical signals, and sends these signals to the brain through a network of nerve cells, known as the optic nerve, and to other areas of the brain, such as the visual cortex and the brain stem, which control the ability to process the images produced by the eye. and the eyes of vertebrates and arthropods.'}]]"
      ]
     },
     "execution_count": 13,
     "metadata": {},
     "output_type": "execute_result"
    }
   ],
   "source": [
    "[summarize_article(article, summarizer, words=600, min_len=100, summary_max_length=400) for article in articles]"
   ]
  },
  {
   "cell_type": "code",
   "execution_count": 18,
   "metadata": {},
   "outputs": [
    {
     "data": {
      "text/plain": [
       "[[{'summary_text': 'Cult rock band Ween, best known for their 1980s hit \"Push th\\' Little Daisies\", have reformed for the first time in more than a decade. the band released two albums in 2012, La Cucaracha (2007) and White Pepper (2000), their first studio albums since the break-up of the band in 2012. the group have been described as \"one of the best-loved bands in the history of alternative rock\". the band\\'s website says.'}],\n",
       " [{'summary_text': 'A machine (or mechanical device) is a mechanical structure that uses power to apply forces and control movement to perform an intended action, such as driving a car, building a house, or lifting a heavy object into place by a lever or pulley mechanism, as well as a system of mechanisms that shape the input forces and movement to achieve a specific application of output forces andmovement, as in the case of the screw, the wheel, the wedge, the lever, or the inclined plane (ramp).'}],\n",
       " [{'summary_text': 'Intelligence is the ability to understand complex ideas, to adapt effectively to the environment, to learn from experience, to overcome obstacles by taking thought, and to be able to think abstractly and to plan and solve problem-solving problems, as well as to be motivated by motivation and self-awareness, as seen in humans and in other animals and in machines such as computers and artificial intelligence, and in some other forms of life, as observed in plants and in the brain and in animals.'}],\n",
       " [{'summary_text': \"The term understanding is used to refer to a range of psychological phenomena, including the ability to predict the behavior of an object, animal or system, as well as to describe the ability of a person to understand something, such as a person's anxieties, their causes, and how to cope with the anxiety, and to describe how a person understands a piece of reasoning, or an argument, or a message, or to describe a language, or the way that one can reproduce the information content conveyed by that language.\"}],\n",
       " [{'summary_text': 'A man is an adult male human who has reached the age of puberty and has begun to develop secondary sexual characteristics, such as facial hair and a voice that is significantly deeper than that of a woman or a child or an adolescent. and the sex of an individual is determined at the time of fertilization by the genetic material carried in the sperm cell, but there are exceptions to the above for some transgender and intersex men, as well as for people with ambiguous genetic or physiological structure, as described below.'}],\n",
       " [{'summary_text': 'A dictionary definition of the word \"message\", as used by the University of California at Berkeley, provides the following basic information about the meanings of the words:1.1. A message is a discrete unit of communication intended by the source for consumption by some recipient or group of recipients, such as an individual, a group of people, a computer system, or a set of instructions or instructions.2. a message can be the content of a broadcast, or of a report or statement released by a public agency.'}],\n",
       " [{'summary_text': 'Inference is the process of drawing a conclusion from a set of premises, and is one of the main areas of study in logic and other branches of mathematics and computer science, as well as in other fields such as statistics and cognitive psychology, and in some areas of psychology, such as linguistics and psychology, the study of human inference is also a key area of study, particularly in the fields of cognitive psychology and cognitive neuroscience, and artificial intelligence, which study how humans draw conclusions in the presence of uncertainty.'}]]"
      ]
     },
     "execution_count": 18,
     "metadata": {},
     "output_type": "execute_result"
    }
   ],
   "source": [
    "articles = [\"Ween (band)\", \"Machines\", \"Intelligence\", \"Understanding\", \"Human\",\n",
    "           \"Message\", \"Inference\"]\n",
    "[summarize_article(article, summarizer, words=600, min_len=100, summary_max_length=400) for article in articles]"
   ]
  },
  {
   "cell_type": "code",
   "execution_count": null,
   "metadata": {},
   "outputs": [],
   "source": [
    "articles = [\"Ween (band)\", \"Machines\", \"Intelligence\", \"Understanding\", \"Human\",\n",
    "           \"Message\", \"Inference\"]\n",
    "[summarize_article(article, summarizer, words=600, min_len=100, summary_max_length=400) for article in articles]"
   ]
  }
 ],
 "metadata": {
  "kernelspec": {
   "display_name": "Python 3",
   "language": "python",
   "name": "python3"
  },
  "language_info": {
   "codemirror_mode": {
    "name": "ipython",
    "version": 3
   },
   "file_extension": ".py",
   "mimetype": "text/x-python",
   "name": "python",
   "nbconvert_exporter": "python",
   "pygments_lexer": "ipython3",
   "version": "3.8.5"
  }
 },
 "nbformat": 4,
 "nbformat_minor": 4
}
