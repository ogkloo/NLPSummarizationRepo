{
 "cells": [
  {
   "cell_type": "code",
   "execution_count": 1,
   "metadata": {},
   "outputs": [],
   "source": [
    "import rouge\n",
    "import torch\n",
    "from transformers import pipeline\n",
    "import wikipedia\n",
    "from transformers import PegasusForConditionalGeneration, PegasusTokenizer\n",
    "\n",
    "# Helper functions\n",
    "def summarize_article(article, summarizer, words=500, min_len=75, summary_max_length=250):\n",
    "    wiki_page = wikipedia.page(article)\n",
    "    article_content = ' '.join(wiki_page.content.split()[:words])\n",
    "    return summarizer(article_content, min_length=min_len, max_length=summary_max_length)\n",
    "\n",
    "def get_article(article_name, words=500):\n",
    "    try:\n",
    "        wiki_page = wikipedia.page(article_name)\n",
    "        article_content = ' '.join(wiki_page.content.split()[:words])\n",
    "        return article_content\n",
    "    except:\n",
    "        return None\n",
    "\n",
    "# Use this to avoid pegasus blowing up GPU memory and refusing to leave \n",
    "class PegasusSummarizer():\n",
    "    def __init__(self):\n",
    "        model_name = 'google/pegasus-xsum'\n",
    "        self.torch_device = 'cuda' if torch.cuda.is_available() else 'cpu'\n",
    "        print(self.torch_device)\n",
    "        self.tokenizer = PegasusTokenizer.from_pretrained(model_name)\n",
    "        self.model = PegasusForConditionalGeneration.from_pretrained(model_name).to(self.torch_device)\n",
    "    def summarize(self, src_txt):\n",
    "        cleaned_text = [text for text in src_text if text]\n",
    "        batch = self.tokenizer(cleaned_text, truncation=True, padding='longest', return_tensors=\"pt\").to(self.torch_device)\n",
    "        translated = self.model.generate(**batch, max_length=200)\n",
    "        tgt_text = self.tokenizer.batch_decode(translated, skip_special_tokens=True)\n",
    "        return tgt_text"
   ]
  },
  {
   "cell_type": "code",
   "execution_count": 2,
   "metadata": {},
   "outputs": [
    {
     "name": "stdout",
     "output_type": "stream",
     "text": [
      "cuda\n"
     ]
    },
    {
     "name": "stderr",
     "output_type": "stream",
     "text": [
      "Some weights of PegasusForConditionalGeneration were not initialized from the model checkpoint at google/pegasus-xsum and are newly initialized: ['lm_head.weight']\n",
      "You should probably TRAIN this model on a down-stream task to be able to use it for predictions and inference.\n"
     ]
    },
    {
     "data": {
      "text/plain": [
       "['In our series of letters from African journalists, film-maker and columnist Ahmed Rashid looks at the history of natural language processing.',\n",
       " 'Artificial intelligence (AI) is intelligence demonstrated by machines, unlike the natural intelligence displayed by humans and animals, which involves consciousness and emotionality.',\n",
       " 'A neural network is a network or circuit of neurons, or in a modern sense, an artificial neural network, composed of artificial neurons or nodes.']"
      ]
     },
     "execution_count": 2,
     "metadata": {},
     "output_type": "execute_result"
    }
   ],
   "source": [
    "src_text = [\n",
    "    get_article(\"Natural language processing\"),\n",
    "    get_article(\"Artificial intelligence\"),\n",
    "    get_article(\"Neural network\"),\n",
    "]\n",
    "p = PegasusSummarizer()\n",
    "p.summarize(src_text)"
   ]
  },
  {
   "cell_type": "code",
   "execution_count": 3,
   "metadata": {},
   "outputs": [
    {
     "name": "stdout",
     "output_type": "stream",
     "text": [
      "cuda\n"
     ]
    },
    {
     "name": "stderr",
     "output_type": "stream",
     "text": [
      "Some weights of PegasusForConditionalGeneration were not initialized from the model checkpoint at google/pegasus-xsum and are newly initialized: ['lm_head.weight']\n",
      "You should probably TRAIN this model on a down-stream task to be able to use it for predictions and inference.\n"
     ]
    },
    {
     "data": {
      "text/plain": [
       "['Packet switching is the primary basis for data communications in computer networks worldwide.',\n",
       " 'Interest, in finance and economics, is payment from a borrower or deposit-taking financial institution to a lender or depositor of an amount above repayment of the principal sum (that is, the amount borrowed), at a particular rate.']"
      ]
     },
     "execution_count": 3,
     "metadata": {},
     "output_type": "execute_result"
    }
   ],
   "source": [
    "src_text = [\n",
    "    get_article(\"Packet switching\"),\n",
    "    get_article(\"Internet\"),\n",
    "]\n",
    "p = PegasusSummarizer()\n",
    "p.summarize(src_text)"
   ]
  },
  {
   "cell_type": "code",
   "execution_count": 4,
   "metadata": {},
   "outputs": [
    {
     "name": "stdout",
     "output_type": "stream",
     "text": [
      "cuda\n"
     ]
    },
    {
     "name": "stderr",
     "output_type": "stream",
     "text": [
      "Some weights of PegasusForConditionalGeneration were not initialized from the model checkpoint at google/pegasus-xsum and are newly initialized: ['lm_head.weight']\n",
      "You should probably TRAIN this model on a down-stream task to be able to use it for predictions and inference.\n"
     ]
    },
    {
     "data": {
      "text/plain": [
       "['In our series of letters from African journalists, film-maker and columnist Farai Sevenzo looks at the history of finance.',\n",
       " 'A network packet is a formatted unit of data carried by a packet-switched network.',\n",
       " 'A definition of a transmission medium:']"
      ]
     },
     "execution_count": 4,
     "metadata": {},
     "output_type": "execute_result"
    }
   ],
   "source": [
    "src_text = [\n",
    "    get_article(\"Finance\"),\n",
    "    get_article(\"Network packet\"),\n",
    "    get_article(\"Transmission medium\"),\n",
    "]\n",
    "p = PegasusSummarizer()\n",
    "p.summarize(src_text)"
   ]
  },
  {
   "cell_type": "code",
   "execution_count": 5,
   "metadata": {},
   "outputs": [
    {
     "name": "stdout",
     "output_type": "stream",
     "text": [
      "cuda\n"
     ]
    },
    {
     "name": "stderr",
     "output_type": "stream",
     "text": [
      "Some weights of PegasusForConditionalGeneration were not initialized from the model checkpoint at google/pegasus-xsum and are newly initialized: ['lm_head.weight']\n",
      "You should probably TRAIN this model on a down-stream task to be able to use it for predictions and inference.\n"
     ]
    },
    {
     "data": {
      "text/plain": [
       "['Diana, Princess of Wales, was a member of the British royal family.',\n",
       " 'Meghan Markle is the Duchess of Sussex, a member of the British royal family.']"
      ]
     },
     "execution_count": 5,
     "metadata": {},
     "output_type": "execute_result"
    }
   ],
   "source": [
    "src_text = [\n",
    "    get_article(\"Diana, Princess of Wales\"),\n",
    "    get_article(\"Meghan, Duchess of Sussex\"),\n",
    "]\n",
    "p = PegasusSummarizer()\n",
    "p.summarize(src_text)"
   ]
  },
  {
   "cell_type": "code",
   "execution_count": 6,
   "metadata": {},
   "outputs": [
    {
     "name": "stdout",
     "output_type": "stream",
     "text": [
      "cuda\n"
     ]
    },
    {
     "name": "stderr",
     "output_type": "stream",
     "text": [
      "Some weights of PegasusForConditionalGeneration were not initialized from the model checkpoint at google/pegasus-xsum and are newly initialized: ['lm_head.weight']\n",
      "You should probably TRAIN this model on a down-stream task to be able to use it for predictions and inference.\n"
     ]
    },
    {
     "data": {
      "text/plain": [
       "['Algeria has one of the largest militaries in Africa and the largest defence budget.',\n",
       " 'Calculus, originally called infinitesimal calculus or \"the calculus of infinitesimals\", is a major branch of mathematics.',\n",
       " 'Geometry has applications to almost all sciences, and also to art, architecture, and other activities that are related to graphics.']"
      ]
     },
     "execution_count": 6,
     "metadata": {},
     "output_type": "execute_result"
    }
   ],
   "source": [
    "src_text = [\n",
    "    get_article(\"Algebra\"),\n",
    "    get_article(\"Calculus\"),\n",
    "    get_article(\"Geometry\"),\n",
    "]\n",
    "p = PegasusSummarizer()\n",
    "p.summarize(src_text)"
   ]
  },
  {
   "cell_type": "code",
   "execution_count": 7,
   "metadata": {},
   "outputs": [
    {
     "name": "stdout",
     "output_type": "stream",
     "text": [
      "cuda\n"
     ]
    },
    {
     "name": "stderr",
     "output_type": "stream",
     "text": [
      "Some weights of PegasusForConditionalGeneration were not initialized from the model checkpoint at google/pegasus-xsum and are newly initialized: ['lm_head.weight']\n",
      "You should probably TRAIN this model on a down-stream task to be able to use it for predictions and inference.\n"
     ]
    },
    {
     "data": {
      "text/plain": [
       "['In our series of letters from African journalists, film-maker and columnist Ahmed Rashid looks at the history of topology in mathematics.',\n",
       " 'Differential geometry is a mathematical discipline that uses techniques of differential calculus, integral calculus, linear algebra and multilinear algebra to study problems in geometry.',\n",
       " 'Number theory (or arithmetic or higher arithmetic in older usage) is a branch of pure mathematics devoted primarily to the study of arithmetic and integer-valued functions.']"
      ]
     },
     "execution_count": 7,
     "metadata": {},
     "output_type": "execute_result"
    }
   ],
   "source": [
    "src_text = [\n",
    "    get_article(\"Topology\"),\n",
    "    get_article(\"Differential geometry\"),\n",
    "    get_article(\"Number theory\"),\n",
    "]\n",
    "p = PegasusSummarizer()\n",
    "p.summarize(src_text)"
   ]
  },
  {
   "cell_type": "code",
   "execution_count": 8,
   "metadata": {},
   "outputs": [
    {
     "name": "stdout",
     "output_type": "stream",
     "text": [
      "cuda\n"
     ]
    },
    {
     "name": "stderr",
     "output_type": "stream",
     "text": [
      "Some weights of PegasusForConditionalGeneration were not initialized from the model checkpoint at google/pegasus-xsum and are newly initialized: ['lm_head.weight']\n",
      "You should probably TRAIN this model on a down-stream task to be able to use it for predictions and inference.\n"
     ]
    },
    {
     "data": {
      "text/plain": [
       "['An algorithm (listen) is a finite computation of well-defined, computer-implementable instructions, typically to solve a class of problems or to perform a task.',\n",
       " 'Statistics is a branch of science that deals with the analysis of data.',\n",
       " 'Game theory has been widely recognized as an important tool in many fields.']"
      ]
     },
     "execution_count": 8,
     "metadata": {},
     "output_type": "execute_result"
    }
   ],
   "source": [
    "src_text = [\n",
    "    get_article(\"Algorithm\"),\n",
    "    get_article(\"Statistics\"),\n",
    "    get_article(\"Game theory\"),\n",
    "]\n",
    "p = PegasusSummarizer()\n",
    "p.summarize(src_text)"
   ]
  },
  {
   "cell_type": "code",
   "execution_count": 2,
   "metadata": {},
   "outputs": [
    {
     "name": "stdout",
     "output_type": "stream",
     "text": [
      "cuda\n"
     ]
    },
    {
     "name": "stderr",
     "output_type": "stream",
     "text": [
      "Some weights of PegasusForConditionalGeneration were not initialized from the model checkpoint at google/pegasus-xsum and are newly initialized: ['lm_head.weight']\n",
      "You should probably TRAIN this model on a down-stream task to be able to use it for predictions and inference.\n"
     ]
    },
    {
     "data": {
      "text/plain": [
       "['The Fourier transform of a function of time is a complex-valued function of frequency, whose magnitude (absolute value) represents the amount of that frequency present in the original function, and whose argument is the phase offset of the basic sinusoid in that frequency. The Fourier transform of a function of time is a complex-valued function of frequency, whose magnitude (absolute value) represents the amount of that frequency present in the original function, and whose argument is the phase offset of the basic sinusoid in that frequency.',\n",
       " 'Probability is the branch of mathematics concerning numerical descriptions of how likely an event is to occur, or how likely it is that a proposition is true.']"
      ]
     },
     "execution_count": 2,
     "metadata": {},
     "output_type": "execute_result"
    }
   ],
   "source": [
    "src_text = [\n",
    "    get_article(\"Fourier transform\"),\n",
    "    get_article(\"Probability\"),\n",
    "    #get_article(\"Cryptography\"),\n",
    "]\n",
    "p = PegasusSummarizer()\n",
    "p.summarize(src_text)"
   ]
  },
  {
   "cell_type": "code",
   "execution_count": 3,
   "metadata": {},
   "outputs": [
    {
     "name": "stdout",
     "output_type": "stream",
     "text": [
      "cuda\n"
     ]
    },
    {
     "name": "stderr",
     "output_type": "stream",
     "text": [
      "Some weights of PegasusForConditionalGeneration were not initialized from the model checkpoint at google/pegasus-xsum and are newly initialized: ['lm_head.weight']\n",
      "You should probably TRAIN this model on a down-stream task to be able to use it for predictions and inference.\n"
     ]
    },
    {
     "data": {
      "text/plain": [
       "['Information theory is the scientific study of the quantification, storage, and communication of information.',\n",
       " 'What is signal processing?',\n",
       " 'Communication is a branch of science which deals with the development, transmission, and interpretation of information.']"
      ]
     },
     "execution_count": 3,
     "metadata": {},
     "output_type": "execute_result"
    }
   ],
   "source": [
    "src_text = [\n",
    "    get_article(\"Information theory\"),\n",
    "    get_article(\"Signal processing\"),\n",
    "    get_article(\"Communication\"),\n",
    "]\n",
    "p = PegasusSummarizer()\n",
    "p.summarize(src_text)"
   ]
  },
  {
   "cell_type": "code",
   "execution_count": 4,
   "metadata": {},
   "outputs": [
    {
     "name": "stdout",
     "output_type": "stream",
     "text": [
      "cuda\n"
     ]
    },
    {
     "name": "stderr",
     "output_type": "stream",
     "text": [
      "Some weights of PegasusForConditionalGeneration were not initialized from the model checkpoint at google/pegasus-xsum and are newly initialized: ['lm_head.weight']\n",
      "You should probably TRAIN this model on a down-stream task to be able to use it for predictions and inference.\n"
     ]
    },
    {
     "data": {
      "text/plain": [
       "['The Nash equilibrium is the most common way to define the solution of a non-cooperative game involving two or more players.',\n",
       " 'A Hausdorff space is a topological space where for any two distinct points there exist neighbourhoods of each which are disjoint from each other.']"
      ]
     },
     "execution_count": 4,
     "metadata": {},
     "output_type": "execute_result"
    }
   ],
   "source": [
    "src_text = [\n",
    "    get_article(\"Nash Equilibrium\"),\n",
    "    get_article(\"Functional Analysis\"),\n",
    "    get_article(\"Hausdorff space\"),\n",
    "]\n",
    "p = PegasusSummarizer()\n",
    "p.summarize(src_text)"
   ]
  },
  {
   "cell_type": "code",
   "execution_count": 5,
   "metadata": {},
   "outputs": [
    {
     "name": "stdout",
     "output_type": "stream",
     "text": [
      "cuda\n"
     ]
    },
    {
     "name": "stderr",
     "output_type": "stream",
     "text": [
      "Some weights of PegasusForConditionalGeneration were not initialized from the model checkpoint at google/pegasus-xsum and are newly initialized: ['lm_head.weight']\n",
      "You should probably TRAIN this model on a down-stream task to be able to use it for predictions and inference.\n"
     ]
    },
    {
     "data": {
      "text/plain": [
       "['Linear algebra is the branch of mathematics concerning linear equations such as: a 1 x 1 +  + a n x n = b',\n",
       " 'A holomorphic function is a complex-valued function of one or more complex variables that is, at every point of its domain, complex differentiable in a neighbourhood of the point.']"
      ]
     },
     "execution_count": 5,
     "metadata": {},
     "output_type": "execute_result"
    }
   ],
   "source": [
    "src_text = [\n",
    "    get_article(\"Hilbert space\"),\n",
    "    get_article(\"Linear algebra\"),\n",
    "    get_article(\"Holomorphic function\"),\n",
    "]\n",
    "p = PegasusSummarizer()\n",
    "p.summarize(src_text)"
   ]
  },
  {
   "cell_type": "code",
   "execution_count": null,
   "metadata": {},
   "outputs": [],
   "source": [
    "# 27 articles so far"
   ]
  },
  {
   "cell_type": "code",
   "execution_count": 6,
   "metadata": {},
   "outputs": [
    {
     "name": "stdout",
     "output_type": "stream",
     "text": [
      "cuda\n"
     ]
    },
    {
     "name": "stderr",
     "output_type": "stream",
     "text": [
      "Some weights of PegasusForConditionalGeneration were not initialized from the model checkpoint at google/pegasus-xsum and are newly initialized: ['lm_head.weight']\n",
      "You should probably TRAIN this model on a down-stream task to be able to use it for predictions and inference.\n"
     ]
    },
    {
     "data": {
      "text/plain": [
       "['In our series of letters from African journalists, film-maker and columnist Ahmed Rashid looks at the concept of a neighbourhood.',\n",
       " 'A metric space is a space in mathematics where the distance between two points is defined by a function called a metric.',\n",
       " 'Felix Hausdorff was born in Leipzig, Germany, on 8 November 1868.']"
      ]
     },
     "execution_count": 6,
     "metadata": {},
     "output_type": "execute_result"
    }
   ],
   "source": [
    "src_text = [\n",
    "    get_article(\"Neighbourhood (mathematics)\"),\n",
    "    get_article(\"Metric space\"),\n",
    "    get_article(\"Felix Hausdorff\"),\n",
    "]\n",
    "p = PegasusSummarizer()\n",
    "p.summarize(src_text)"
   ]
  },
  {
   "cell_type": "code",
   "execution_count": 7,
   "metadata": {},
   "outputs": [
    {
     "name": "stdout",
     "output_type": "stream",
     "text": [
      "cuda\n"
     ]
    },
    {
     "name": "stderr",
     "output_type": "stream",
     "text": [
      "Some weights of PegasusForConditionalGeneration were not initialized from the model checkpoint at google/pegasus-xsum and are newly initialized: ['lm_head.weight']\n",
      "You should probably TRAIN this model on a down-stream task to be able to use it for predictions and inference.\n"
     ]
    },
    {
     "data": {
      "text/plain": [
       "['The Wasserstein distance or Kantorovich-Rubinstein metric is a distance function defined between probability distributions on a given metric space M displaystyle M.',\n",
       " 'A probability measure is a real-valued function defined on a set of events in a probability space that satisfies measure properties such as countable additivity.',\n",
       " 'Volume is one of the basic units of measurement in the International System of Units (SI).']"
      ]
     },
     "execution_count": 7,
     "metadata": {},
     "output_type": "execute_result"
    }
   ],
   "source": [
    "src_text = [\n",
    "    get_article(\"Wasserstein metric\"),\n",
    "    get_article(\"Probability measure\"),\n",
    "    get_article(\"Volume\"),\n",
    "]\n",
    "p = PegasusSummarizer()\n",
    "p.summarize(src_text)"
   ]
  },
  {
   "cell_type": "code",
   "execution_count": 8,
   "metadata": {},
   "outputs": [
    {
     "name": "stdout",
     "output_type": "stream",
     "text": [
      "cuda\n"
     ]
    },
    {
     "name": "stderr",
     "output_type": "stream",
     "text": [
      "Some weights of PegasusForConditionalGeneration were not initialized from the model checkpoint at google/pegasus-xsum and are newly initialized: ['lm_head.weight']\n",
      "You should probably TRAIN this model on a down-stream task to be able to use it for predictions and inference.\n"
     ]
    },
    {
     "data": {
      "text/plain": [
       "['The subset relation defines a partial order on sets.',\n",
       " 'Complex analysis is the branch of mathematics that investigates functions of complex numbers.',\n",
       " 'A function is a process or relation that associates each element x of a set X, the domain of the function, to a single element y of another set Y (possibly the same set), the codomain of the function.']"
      ]
     },
     "execution_count": 8,
     "metadata": {},
     "output_type": "execute_result"
    }
   ],
   "source": [
    "src_text = [\n",
    "    get_article(\"Subset\"),\n",
    "    get_article(\"Complex analysis\"),\n",
    "    get_article(\"Function (mathematics)\"),\n",
    "]\n",
    "p = PegasusSummarizer()\n",
    "p.summarize(src_text)"
   ]
  },
  {
   "cell_type": "code",
   "execution_count": 2,
   "metadata": {},
   "outputs": [
    {
     "name": "stdout",
     "output_type": "stream",
     "text": [
      "cuda\n"
     ]
    },
    {
     "name": "stderr",
     "output_type": "stream",
     "text": [
      "Some weights of PegasusForConditionalGeneration were not initialized from the model checkpoint at google/pegasus-xsum and are newly initialized: ['lm_head.weight']\n",
      "You should probably TRAIN this model on a down-stream task to be able to use it for predictions and inference.\n"
     ]
    },
    {
     "data": {
      "text/plain": [
       "['The codomain or set of destination of a function is the set into which all of the output of the function is constrained to fall.',\n",
       " 'The identity function is a function that always returns the same value as its argument.']"
      ]
     },
     "execution_count": 2,
     "metadata": {},
     "output_type": "execute_result"
    }
   ],
   "source": [
    "src_text = [\n",
    "    get_article(\"Codomain\"),\n",
    "    get_article(\"Surjective function\"),\n",
    "    get_article(\"Identity function\"),\n",
    "]\n",
    "p = PegasusSummarizer()\n",
    "p.summarize(src_text)"
   ]
  },
  {
   "cell_type": "code",
   "execution_count": 3,
   "metadata": {},
   "outputs": [
    {
     "name": "stdout",
     "output_type": "stream",
     "text": [
      "cuda\n"
     ]
    },
    {
     "name": "stderr",
     "output_type": "stream",
     "text": [
      "Some weights of PegasusForConditionalGeneration were not initialized from the model checkpoint at google/pegasus-xsum and are newly initialized: ['lm_head.weight']\n",
      "You should probably TRAIN this model on a down-stream task to be able to use it for predictions and inference.\n"
     ]
    },
    {
     "data": {
      "text/plain": [
       "['A semigroup is an algebraic structure consisting of a set together with an associative binary operation.',\n",
       " 'A magma, binar or groupoid is a basic kind of algebraic structure.']"
      ]
     },
     "execution_count": 3,
     "metadata": {},
     "output_type": "execute_result"
    }
   ],
   "source": [
    "src_text = [\n",
    "    get_article(\"Monoid\"),\n",
    "    get_article(\"Semigroup\"),\n",
    "    get_article(\"Magma (algebra)\"),\n",
    "]\n",
    "p = PegasusSummarizer()\n",
    "p.summarize(src_text)"
   ]
  },
  {
   "cell_type": "code",
   "execution_count": 2,
   "metadata": {},
   "outputs": [
    {
     "name": "stdout",
     "output_type": "stream",
     "text": [
      "cuda\n"
     ]
    },
    {
     "name": "stderr",
     "output_type": "stream",
     "text": [
      "Some weights of PegasusForConditionalGeneration were not initialized from the model checkpoint at google/pegasus-xsum and are newly initialized: ['lm_head.weight']\n",
      "You should probably TRAIN this model on a down-stream task to be able to use it for predictions and inference.\n"
     ]
    },
    {
     "data": {
      "text/plain": [
       "['Monad theory is a branch of mathematics, a branch of mathematics, a monad (also triple, triad, standard construction and fundamental construction) is an adjoint functor (a functor mapping a to itself), together with two natural transformations required to fulfill certain coherence conditions.',\n",
       " 'A monad is an abstraction that allows structuring programs generically.',\n",
       " 'The Monad in gnosticism is an adaptation of concepts of the Monad in Greek philosophy to Christian gnostic belief systems.']"
      ]
     },
     "execution_count": 2,
     "metadata": {},
     "output_type": "execute_result"
    }
   ],
   "source": [
    "src_text = [\n",
    "    get_article(\"Monad (category theory)\"),\n",
    "    get_article(\"Monad (functional programming)\"),\n",
    "    get_article(\"Monad (Gnosticism)\"),\n",
    "]\n",
    "p = PegasusSummarizer()\n",
    "p.summarize(src_text)"
   ]
  },
  {
   "cell_type": "code",
   "execution_count": 2,
   "metadata": {},
   "outputs": [
    {
     "name": "stdout",
     "output_type": "stream",
     "text": [
      "cuda\n"
     ]
    },
    {
     "name": "stderr",
     "output_type": "stream",
     "text": [
      "Some weights of PegasusForConditionalGeneration were not initialized from the model checkpoint at google/pegasus-xsum and are newly initialized: ['lm_head.weight']\n",
      "You should probably TRAIN this model on a down-stream task to be able to use it for predictions and inference.\n"
     ]
    },
    {
     "data": {
      "text/plain": [
       "['A fiber bundle is a topological space that is locally a product space, but globally may have a different topological structure.',\n",
       " 'The concept of a manifold is central to many parts of geometry and modern mathematical physics because it allows complicated structures to be described and understood in terms of the simpler local topological properties of Euclidean space.',\n",
       " 'A symplectic manifold is a smooth manifold, M displaystyle M, equipped with a closed nondegenerate differential 2-form  omega , called the symplectic form.']"
      ]
     },
     "execution_count": 2,
     "metadata": {},
     "output_type": "execute_result"
    }
   ],
   "source": [
    "src_text = [\n",
    "    get_article(\"Fiber Bundle\"),\n",
    "    get_article(\"Manifold\"),\n",
    "    get_article(\"Symplectic manifold\"),\n",
    "]\n",
    "p = PegasusSummarizer()\n",
    "p.summarize(src_text)"
   ]
  },
  {
   "cell_type": "code",
   "execution_count": 3,
   "metadata": {},
   "outputs": [
    {
     "name": "stdout",
     "output_type": "stream",
     "text": [
      "cuda\n"
     ]
    },
    {
     "name": "stderr",
     "output_type": "stream",
     "text": [
      "Some weights of PegasusForConditionalGeneration were not initialized from the model checkpoint at google/pegasus-xsum and are newly initialized: ['lm_head.weight']\n",
      "You should probably TRAIN this model on a down-stream task to be able to use it for predictions and inference.\n"
     ]
    },
    {
     "data": {
      "text/plain": [
       "['The Klein bottle is a topological object.',\n",
       " 'An immersion is a differentiable function between differentiable manifolds whose derivative is everywhere injective.',\n",
       " 'A diffeomorphism is an invertible function that maps one differentiable manifold to another such that both the function and its inverse are smooth.']"
      ]
     },
     "execution_count": 3,
     "metadata": {},
     "output_type": "execute_result"
    }
   ],
   "source": [
    "src_text = [\n",
    "    get_article(\"Klein bottle\"),\n",
    "    get_article(\"Immersion (mathematics)\"),\n",
    "    get_article(\"Diffeomorphism\"),\n",
    "]\n",
    "p = PegasusSummarizer()\n",
    "p.summarize(src_text)"
   ]
  },
  {
   "cell_type": "code",
   "execution_count": 4,
   "metadata": {},
   "outputs": [
    {
     "name": "stdout",
     "output_type": "stream",
     "text": [
      "cuda\n"
     ]
    },
    {
     "name": "stderr",
     "output_type": "stream",
     "text": [
      "Some weights of PegasusForConditionalGeneration were not initialized from the model checkpoint at google/pegasus-xsum and are newly initialized: ['lm_head.weight']\n",
      "You should probably TRAIN this model on a down-stream task to be able to use it for predictions and inference.\n"
     ]
    },
    {
     "data": {
      "text/plain": [
       "['A differentiable manifold is a type of manifold that is locally similar enough to a linear space to allow one to do calculus.',\n",
       " 'A homeomorphism is a continuous function between topological spaces that has a continuous inverse function.',\n",
       " 'A topological property or topological invariant is a property of a topological space which is invariant under homeomorphisms.']"
      ]
     },
     "execution_count": 4,
     "metadata": {},
     "output_type": "execute_result"
    }
   ],
   "source": [
    "src_text = [\n",
    "    get_article(\"Differentiable manifold\"),\n",
    "    get_article(\"Homeomorphism\"),\n",
    "    get_article(\"Topological property\"),\n",
    "]\n",
    "p = PegasusSummarizer()\n",
    "p.summarize(src_text)"
   ]
  },
  {
   "cell_type": "code",
   "execution_count": null,
   "metadata": {},
   "outputs": [],
   "source": []
  }
 ],
 "metadata": {
  "kernelspec": {
   "display_name": "Python 3",
   "language": "python",
   "name": "python3"
  },
  "language_info": {
   "codemirror_mode": {
    "name": "ipython",
    "version": 3
   },
   "file_extension": ".py",
   "mimetype": "text/x-python",
   "name": "python",
   "nbconvert_exporter": "python",
   "pygments_lexer": "ipython3",
   "version": "3.8.5"
  }
 },
 "nbformat": 4,
 "nbformat_minor": 4
}
