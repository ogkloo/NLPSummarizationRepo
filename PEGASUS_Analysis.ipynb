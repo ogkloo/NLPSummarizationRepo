{
 "cells": [
  {
   "cell_type": "code",
   "execution_count": 13,
   "metadata": {},
   "outputs": [],
   "source": [
    "from rouge import Rouge\n",
    "import wikipedia\n",
    "\n",
    "def get_article(article_name, words=500):\n",
    "    try:\n",
    "        wiki_page = wikipedia.page(article_name)\n",
    "        article_content = ' '.join(wiki_page.content.split()[:words])\n",
    "        return article_content\n",
    "    except:\n",
    "        return None"
   ]
  },
  {
   "cell_type": "code",
   "execution_count": 17,
   "metadata": {},
   "outputs": [],
   "source": [
    "summaries = [\n",
    "    (get_article(\"Natural language processing\"), 'In our series of letters from African journalists, film-maker and columnist Ahmed Rashid looks at the history of natural language processing.'),\n",
    "    (get_article(\"Artificial intelligence\"), 'Artificial intelligence (AI) is intelligence demonstrated by machines, unlike the natural intelligence displayed by humans and animals, which involves consciousness and emotionality.',),\n",
    "    (get_article(\"Neural network\"), 'A neural network is a network or circuit of neurons, or in a modern sense, an artificial neural network, composed of artificial neurons or nodes.'),\n",
    "    (get_article(\"Packet switching\"), 'Packet switching is the primary basis for data communications in computer networks worldwide.'),\n",
    "    (get_article(\"Internet\"), 'Interest, in finance and economics, is payment from a borrower or deposit-taking financial institution to a lender or depositor of an amount above repayment of the principal sum (that is, the amount borrowed), at a particular rate.'),\n",
    "    (get_article(\"Finance\"), 'In our series of letters from African journalists, film-maker and columnist Farai Sevenzo looks at the history of finance.'),\n",
    "    (get_article(\"Network packet\"), 'A network packet is a formatted unit of data carried by a packet-switched network.'),\n",
    "    (get_article(\"Transmission medium\"), 'A definition of a transmission medium:'),\n",
    "    (get_article(\"Diana, Princess of Wales\"), 'Diana, Princess of Wales, was a member of the British royal family.'),\n",
    "    (get_article(\"Meghan, Duchess of Sussex\"), 'Meghan Markle is the Duchess of Sussex, a member of the British royal family.'),\n",
    "    (get_article(\"Algebra\"), 'Algeria has one of the largest militaries in Africa and the largest defence budget.',),\n",
    "    (get_article(\"Calculus\"), 'Calculus, originally called infinitesimal calculus or \"the calculus of infinitesimals\", is a major branch of mathematics.'),\n",
    "    (get_article(\"Geometry\"), 'Geometry has applications to almost all sciences, and also to art, architecture, and other activities that are related to graphics.'),\n",
    "    (get_article(\"Topology\"), 'In our series of letters from African journalists, film-maker and columnist Ahmed Rashid looks at the history of topology in mathematics.',),\n",
    "    (get_article(\"Differential geometry\"),  'Differential geometry is a mathematical discipline that uses techniques of differential calculus, integral calculus, linear algebra and multilinear algebra to study problems in geometry.'),\n",
    "    (get_article(\"Number theory\"), 'Number theory (or arithmetic or higher arithmetic in older usage) is a branch of pure mathematics devoted primarily to the study of arithmetic and integer-valued functions.'),\n",
    "    (get_article(\"Algorithm\"), 'An algorithm (listen) is a finite computation of well-defined, computer-implementable instructions, typically to solve a class of problems or to perform a task.'),\n",
    "    (get_article(\"Statistics\"),  'Statistics is a branch of science that deals with the analysis of data.',),\n",
    "    (get_article(\"Game theory\"), 'Game theory has been widely recognized as an important tool in many fields.'),\n",
    "    (get_article(\"Fourier transform\"), 'The Fourier transform of a function of time is a complex-valued function of frequency, whose magnitude (absolute value) represents the amount of that frequency present in the original function, and whose argument is the phase offset of the basic sinusoid in that frequency. The Fourier transform of a function of time is a complex-valued function of frequency, whose magnitude (absolute value) represents the amount of that frequency present in the original function, and whose argument is the phase offset of the basic sinusoid in that frequency.'),\n",
    "    (get_article(\"Probability\"), 'Probability is the branch of mathematics concerning numerical descriptions of how likely an event is to occur, or how likely it is that a proposition is true.'),\n",
    "    (get_article(\"Information theory\"), 'Information theory is the scientific study of the quantification, storage, and communication of information.'),\n",
    "    (get_article(\"Signal processing\"), 'What is signal processing?'),\n",
    "    (get_article(\"Communication\"), 'Communication is a branch of science which deals with the development, transmission, and interpretation of information.'),\n",
    "    (get_article(\"Nash Equilibrium\"), 'The Nash equilibrium is the most common way to define the solution of a non-cooperative game involving two or more players.'),\n",
    "    (get_article(\"Hausdorff space\"),'A Hausdorff space is a topological space where for any two distinct points there exist neighbourhoods of each which are disjoint from each other.'),\n",
    "    (get_article(\"Linear algebra\"), 'Linear algebra is the branch of mathematics concerning linear equations such as: a 1 x 1 +  + a n x n = b'),\n",
    "    (get_article(\"Holomorphic function\"), 'A holomorphic function is a complex-valued function of one or more complex variables that is, at every point of its domain, complex differentiable in a neighbourhood of the point.'),\n",
    "    (get_article(\"Neighbourhood (mathematics)\"), 'In our series of letters from African journalists, film-maker and columnist Ahmed Rashid looks at the concept of a neighbourhood.'),\n",
    "    (get_article(\"Metric space\"),  'A metric space is a space in mathematics where the distance between two points is defined by a function called a metric.'),\n",
    "    (get_article(\"Felix Hausdorff\"), 'Felix Hausdorff was born in Leipzig, Germany, on 8 November 1868.'),\n",
    "    (get_article(\"Wasserstein metric\"), 'The Wasserstein distance or Kantorovich-Rubinstein metric is a distance function defined between probability distributions on a given metric space M displaystyle M.'),\n",
    "    (get_article(\"Probability measure\"), 'A probability measure is a real-valued function defined on a set of events in a probability space that satisfies measure properties such as countable additivity.'),\n",
    "    (get_article(\"Volume\"), 'Volume is one of the basic units of measurement in the International System of Units (SI).'),\n",
    "    (get_article(\"Subset\"),'The subset relation defines a partial order on sets.'),\n",
    "    (get_article(\"Complex analysis\"), 'Complex analysis is the branch of mathematics that investigates functions of complex numbers.'),\n",
    "    (get_article(\"Function (mathematics)\"), 'A function is a process or relation that associates each element x of a set X, the domain of the function, to a single element y of another set Y (possibly the same set), the codomain of the function.'),\n",
    "    (get_article(\"Codomain\"),'The codomain or set of destination of a function is the set into which all of the output of the function is constrained to fall.'),\n",
    "    (get_article(\"Identity function\"), 'The identity function is a function that always returns the same value as its argument.'),\n",
    "    (get_article(\"Semigroup\"),'A semigroup is an algebraic structure consisting of a set together with an associative binary operation.'),\n",
    "    (get_article(\"Magma (algebra)\"),'A magma, binar or groupoid is a basic kind of algebraic structure.'),\n",
    "    (get_article(\"Monad (category theory)\"),'Monad theory is a branch of mathematics, a branch of mathematics, a monad (also triple, triad, standard construction and fundamental construction) is an adjoint functor (a functor mapping a to itself), together with two natural transformations required to fulfill certain coherence conditions.'),\n",
    "    (get_article(\"Monad (functional programming)\"),'A monad is an abstraction that allows structuring programs generically.'),\n",
    "    (get_article(\"Monad (Gnosticism)\"),'The Monad in gnosticism is an adaptation of concepts of the Monad in Greek philosophy to Christian gnostic belief systems.'),\n",
    "    (get_article(\"Fiber Bundle\"),'A fiber bundle is a topological space that is locally a product space, but globally may have a different topological structure.'),\n",
    "    (get_article(\"Manifold\"), 'The concept of a manifold is central to many parts of geometry and modern mathematical physics because it allows complicated structures to be described and understood in terms of the simpler local topological properties of Euclidean space.'),\n",
    "    (get_article(\"Symplectic manifold\"), 'A symplectic manifold is a smooth manifold, M displaystyle M, equipped with a closed nondegenerate differential 2-form  omega , called the symplectic form.'),\n",
    "    (get_article(\"Klein bottle\"),'The Klein bottle is a topological object.'),\n",
    "    (get_article(\"Immersion (mathematics)\"),'An immersion is a differentiable function between differentiable manifolds whose derivative is everywhere injective.'),\n",
    "    (get_article(\"Diffeomorphism\"),'A diffeomorphism is an invertible function that maps one differentiable manifold to another such that both the function and its inverse are smooth.'),\n",
    "    (get_article(\"Differentiable manifold\"),'A differentiable manifold is a type of manifold that is locally similar enough to a linear space to allow one to do calculus.'),\n",
    "    (get_article(\"Homeomorphism\"),'A homeomorphism is a continuous function between topological spaces that has a continuous inverse function.'),\n",
    "    (get_article(\"Topological property\"),'A topological property or topological invariant is a property of a topological space which is invariant under homeomorphisms.'),\n",
    "]"
   ]
  },
  {
   "cell_type": "code",
   "execution_count": 18,
   "metadata": {},
   "outputs": [],
   "source": [
    "rouge = Rouge()\n",
    "scores = [rouge.get_scores(x[1], x[0]) for x in summaries]"
   ]
  },
  {
   "cell_type": "code",
   "execution_count": 28,
   "metadata": {},
   "outputs": [],
   "source": [
    "rougel_fscores = [score[0]['rouge-l']['f'] for score in scores]"
   ]
  },
  {
   "cell_type": "code",
   "execution_count": 34,
   "metadata": {},
   "outputs": [
    {
     "data": {
      "text/plain": [
       "(array([1., 2., 2., 3., 5., 7., 6., 3., 3., 4., 7., 2., 0., 2., 1., 1., 1.,\n",
       "        2., 0., 1.]),\n",
       " array([0.01423488, 0.02714015, 0.04004543, 0.05295071, 0.06585598,\n",
       "        0.07876126, 0.09166654, 0.10457182, 0.11747709, 0.13038237,\n",
       "        0.14328765, 0.15619293, 0.1690982 , 0.18200348, 0.19490876,\n",
       "        0.20781404, 0.22071931, 0.23362459, 0.24652987, 0.25943515,\n",
       "        0.27234042]),\n",
       " <BarContainer object of 20 artists>)"
      ]
     },
     "execution_count": 34,
     "metadata": {},
     "output_type": "execute_result"
    },
    {
     "data": {
      "image/png": "[encoded data removed]",
      "text/plain": [
       "<Figure size 432x288 with 1 Axes>"
      ]
     },
     "metadata": {
      "needs_background": "light"
     },
     "output_type": "display_data"
    }
   ],
   "source": [
    "import matplotlib.pyplot as plt\n",
    "from matplotlib import colors\n",
    "from matplotlib.ticker import PercentFormatter\n",
    "fig, axs = plt.subplots(1, 1, sharey=True, tight_layout=True)\n",
    "\n",
    "# We can set the number of bins with the `bins` kwarg\n",
    "axs.hist(rougel_fscores, bins=20)"
   ]
  },
  {
   "cell_type": "code",
   "execution_count": 35,
   "metadata": {},
   "outputs": [
    {
     "data": {
      "text/plain": [
       "0.11879638163714781"
      ]
     },
     "execution_count": 35,
     "metadata": {},
     "output_type": "execute_result"
    }
   ],
   "source": [
    "sum(rougel_fscores)/len(rougel_fscores)"
   ]
  },
  {
   "cell_type": "code",
   "execution_count": null,
   "metadata": {},
   "outputs": [],
   "source": []
  }
 ],
 "metadata": {
  "kernelspec": {
   "display_name": "Python 3",
   "language": "python",
   "name": "python3"
  },
  "language_info": {
   "codemirror_mode": {
    "name": "ipython",
    "version": 3
   },
   "file_extension": ".py",
   "mimetype": "text/x-python",
   "name": "python",
   "nbconvert_exporter": "python",
   "pygments_lexer": "ipython3",
   "version": "3.8.5"
  }
 },
 "nbformat": 4,
 "nbformat_minor": 4
}
